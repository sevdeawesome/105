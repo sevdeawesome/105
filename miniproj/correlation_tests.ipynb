{
 "cells": [
  {
   "cell_type": "code",
   "execution_count": 1,
   "metadata": {},
   "outputs": [
    {
     "data": {
      "text/html": [
       "<div>\n",
       "<style scoped>\n",
       "    .dataframe tbody tr th:only-of-type {\n",
       "        vertical-align: middle;\n",
       "    }\n",
       "\n",
       "    .dataframe tbody tr th {\n",
       "        vertical-align: top;\n",
       "    }\n",
       "\n",
       "    .dataframe thead th {\n",
       "        text-align: right;\n",
       "    }\n",
       "</style>\n",
       "<table border=\"1\" class=\"dataframe\">\n",
       "  <thead>\n",
       "    <tr style=\"text-align: right;\">\n",
       "      <th></th>\n",
       "      <th>Paid Job Hours</th>\n",
       "      <th>Research Lab Hours</th>\n",
       "      <th>Scholarship Percentage</th>\n",
       "      <th>Finaid Percentage</th>\n",
       "      <th>Num Applications</th>\n",
       "    </tr>\n",
       "    <tr>\n",
       "      <th>GPA</th>\n",
       "      <th></th>\n",
       "      <th></th>\n",
       "      <th></th>\n",
       "      <th></th>\n",
       "      <th></th>\n",
       "    </tr>\n",
       "  </thead>\n",
       "  <tbody>\n",
       "    <tr>\n",
       "      <th>2.50 to 2.99</th>\n",
       "      <td>10.000000</td>\n",
       "      <td>0.000000</td>\n",
       "      <td>0.000000</td>\n",
       "      <td>60.000000</td>\n",
       "      <td>40.000000</td>\n",
       "    </tr>\n",
       "    <tr>\n",
       "      <th>3.00 to 3.49</th>\n",
       "      <td>6.090909</td>\n",
       "      <td>0.000000</td>\n",
       "      <td>10.909091</td>\n",
       "      <td>50.454545</td>\n",
       "      <td>13.545455</td>\n",
       "    </tr>\n",
       "    <tr>\n",
       "      <th>3.50 to 4.00</th>\n",
       "      <td>3.750000</td>\n",
       "      <td>0.491803</td>\n",
       "      <td>8.677419</td>\n",
       "      <td>45.541148</td>\n",
       "      <td>54.290323</td>\n",
       "    </tr>\n",
       "  </tbody>\n",
       "</table>\n",
       "</div>"
      ],
      "text/plain": [
       "              Paid Job Hours  Research Lab Hours  Scholarship Percentage  \\\n",
       "GPA                                                                        \n",
       "2.50 to 2.99       10.000000            0.000000                0.000000   \n",
       "3.00 to 3.49        6.090909            0.000000               10.909091   \n",
       "3.50 to 4.00        3.750000            0.491803                8.677419   \n",
       "\n",
       "              Finaid Percentage  Num Applications  \n",
       "GPA                                                \n",
       "2.50 to 2.99          60.000000         40.000000  \n",
       "3.00 to 3.49          50.454545         13.545455  \n",
       "3.50 to 4.00          45.541148         54.290323  "
      ]
     },
     "execution_count": 1,
     "metadata": {},
     "output_type": "execute_result"
    }
   ],
   "source": [
    "import pandas as pd\n",
    "import numpy as np\n",
    "import matplotlib.pyplot as plt\n",
    "from matplotlib.patches import Circle, RegularPolygon\n",
    "from matplotlib.path import Path\n",
    "from matplotlib.projections.polar import PolarAxes\n",
    "from matplotlib.projections import register_projection\n",
    "from matplotlib.spines import Spine\n",
    "from matplotlib.transforms import Affine2D\n",
    "\n",
    "import plotly.express as px\n",
    "import pandas as pd\n",
    "\n",
    "\n",
    "\n",
    "raw_df = pd.read_csv(\"data.csv\")\n",
    "\n",
    "\n",
    "questions = ['On average, how many hours do you work at a paid job per week?',\n",
    "             'On average, how many hours do you work at a research lab per week? ',\n",
    "             'On average, what percentage of school expenses does your scholarship cover? (Enter 0 if not applicable)',\n",
    "             'On average, what percentage of school expenses does your financial aid cover? (Enter 0 if not applicable.)',\n",
    "             'How many jobs and internships have you applied for during your college career?',\n",
    "             'What is your current GPA? ']\n",
    "\n",
    "aliases = ['Paid Job Hours',\n",
    "           'Research Lab Hours',\n",
    "           'Scholarship Percentage',\n",
    "           'Finaid Percentage',\n",
    "           'Num Applications',\n",
    "           'GPA']\n",
    "\n",
    "df = raw_df[questions]\n",
    "\n",
    "#rename columns to aliases\n",
    "for i in range(len(questions)):\n",
    "  df = df.rename(columns={questions[i]: aliases[i]})\n",
    "\n",
    "gpagroup = df.groupby([\"GPA\"]).mean()\n",
    "gpagroup"
   ]
  },
  {
   "cell_type": "code",
   "execution_count": null,
   "metadata": {},
   "outputs": [],
   "source": []
  },
  {
   "cell_type": "markdown",
   "metadata": {},
   "source": [
    "## CHI SQUARED"
   ]
  },
  {
   "cell_type": "code",
   "execution_count": 31,
   "metadata": {},
   "outputs": [
    {
     "name": "stdout",
     "output_type": "stream",
     "text": [
      "6.6136333333333335\n",
      "3.3348032467532462\n"
     ]
    }
   ],
   "source": [
    "# for paid job TO REJECT THE NULL HYPOTHESIS YOU NEED .07\n",
    "\n",
    "#Paid job hours\n",
    "print((10+6.0909+3.75 )/ 3)\n",
    "\n",
    "print(((((10-6.166)**2)/6.16) + ((6.09-6.166)**2)/6.16) + ((3.75-6.166)**2)/6.16)"
   ]
  },
  {
   "cell_type": "code",
   "execution_count": 34,
   "metadata": {},
   "outputs": [
    {
     "name": "stdout",
     "output_type": "stream",
     "text": [
      "0.16393333333333335\n",
      "0.9766176327028675\n"
     ]
    }
   ],
   "source": [
    "#RESEARCH LAB HOURS\n",
    "\n",
    "\n",
    "print((.4918 )/ 3)\n",
    "\n",
    "print(((((.49-.1639)**2)/.1639 + ((.1639)**2)/.1639) + ((.1639)**2)/.1639))"
   ]
  },
  {
   "cell_type": "code",
   "execution_count": 36,
   "metadata": {},
   "outputs": [
    {
     "name": "stdout",
     "output_type": "stream",
     "text": [
      "6.528666666666666\n",
      "10.175573835784315\n"
     ]
    }
   ],
   "source": [
    "#SCHOLARSHIP %\n",
    "\n",
    "\n",
    "print((10.909+8.677 )/ 3)\n",
    "\n",
    "print(((((10.909-6.528)**2)/6.528 + ((6.528)**2)/6.528) + ((8.677-6.528)**2)/6.528))"
   ]
  },
  {
   "cell_type": "code",
   "execution_count": 40,
   "metadata": {},
   "outputs": [
    {
     "name": "stdout",
     "output_type": "stream",
     "text": [
      "51.99666666666667\n",
      "0.8261789058661169\n"
     ]
    }
   ],
   "source": [
    "#FINAID\n",
    "\n",
    "print((60+50.45+45.54)/ 3)\n",
    "\n",
    "print(((((60-51.996)**2)/51.996 + ((50.45 - 51.996)**2)/51.996) + (45.54-51.996)**2)/51.996)"
   ]
  },
  {
   "cell_type": "code",
   "execution_count": 42,
   "metadata": {},
   "outputs": [
    {
     "name": "stdout",
     "output_type": "stream",
     "text": [
      "32.61\n",
      "14.761828893991332\n"
     ]
    }
   ],
   "source": [
    "#NUM APPLICATIONS\n",
    "\n",
    "print((30 + 13.54 + 54.29)/ 3)\n",
    "\n",
    "print(((((30-32.61)**2)/32.61 + ((13.54 - 32.61)**2)/32.61) + (54.29-32.61)**2)/32.61)"
   ]
  },
  {
   "cell_type": "markdown",
   "metadata": {},
   "source": [
    "# Correlation R"
   ]
  },
  {
   "cell_type": "code",
   "execution_count": 12,
   "metadata": {},
   "outputs": [
    {
     "data": {
      "text/plain": [
       "-0.7853961562224396"
      ]
     },
     "execution_count": 12,
     "metadata": {},
     "output_type": "execute_result"
    }
   ],
   "source": [
    "column_1 = gpagroup[\"Paid Job Hours\"]\n",
    "column_2 = gpagroup[\"Research Lab Hours\"]\n",
    "\n",
    "column_2.corr(column_1)"
   ]
  },
  {
   "cell_type": "code",
   "execution_count": 14,
   "metadata": {},
   "outputs": [],
   "source": [
    "correlation = gpagroup.corr()"
   ]
  },
  {
   "cell_type": "code",
   "execution_count": 19,
   "metadata": {},
   "outputs": [
    {
     "name": "stdout",
     "output_type": "stream",
     "text": [
      "                        Paid Job Hours  Research Lab Hours  \\\n",
      "Paid Job Hours                1.000000           -0.785396   \n",
      "Research Lab Hours           -0.785396            1.000000   \n",
      "Scholarship Percentage       -0.839420            0.322864   \n",
      "Finaid Percentage             0.999238           -0.760644   \n",
      "Num Applications             -0.207529            0.768510   \n",
      "\n",
      "                        Scholarship Percentage  Finaid Percentage  \\\n",
      "Paid Job Hours                       -0.839420           0.999238   \n",
      "Research Lab Hours                    0.322864          -0.760644   \n",
      "Scholarship Percentage                1.000000          -0.859988   \n",
      "Finaid Percentage                    -0.859988           1.000000   \n",
      "Num Applications                     -0.357447          -0.169199   \n",
      "\n",
      "                        Num Applications  \n",
      "Paid Job Hours                 -0.207529  \n",
      "Research Lab Hours              0.768510  \n",
      "Scholarship Percentage         -0.357447  \n",
      "Finaid Percentage              -0.169199  \n",
      "Num Applications                1.000000  \n"
     ]
    }
   ],
   "source": [
    "print(correlation)"
   ]
  },
  {
   "cell_type": "code",
   "execution_count": null,
   "metadata": {},
   "outputs": [],
   "source": []
  }
 ],
 "metadata": {
  "interpreter": {
   "hash": "ca49ff0ffe1808df299e2fa61a14697f92eb8fb3e9a660d64db98d3fdcc9e2a2"
  },
  "kernelspec": {
   "display_name": "Python 3.8.8 ('base')",
   "language": "python",
   "name": "python3"
  },
  "language_info": {
   "codemirror_mode": {
    "name": "ipython",
    "version": 3
   },
   "file_extension": ".py",
   "mimetype": "text/x-python",
   "name": "python",
   "nbconvert_exporter": "python",
   "pygments_lexer": "ipython3",
   "version": "3.8.8"
  },
  "orig_nbformat": 4
 },
 "nbformat": 4,
 "nbformat_minor": 2
}
