{
 "cells": [
  {
   "cell_type": "code",
   "execution_count": 1,
   "id": "5c205aa3-1abd-4d28-8eeb-1b1547b3c669",
   "metadata": {},
   "outputs": [],
   "source": [
    "import pandas as pd\n",
    "raw_df = pd.read_csv(\"(Responses) CS105 Winter 2022 Class Survey - Form Responses 1.csv\")\n",
    "#raw_df"
   ]
  },
  {
   "cell_type": "code",
   "execution_count": 2,
   "id": "24ba6d0e-72bc-44cc-a926-bd508045cfd9",
   "metadata": {},
   "outputs": [
    {
     "data": {
      "text/plain": [
       "Index(['Timestamp', 'To which gender identity do you most identify?',\n",
       "       'What year are you?', 'Are you a transfer student?',\n",
       "       'What is your current GPA? ', 'What was your GPA in Fall 2021?',\n",
       "       'What was your GPA in Spring 2021?',\n",
       "       'What is your current housing situation?',\n",
       "       'What was your housing situation in Fall 2021?',\n",
       "       'How do you commute to school?',\n",
       "       'What is your estimated average one-way commute time?',\n",
       "       'Are you a first, middle, last, or only child?',\n",
       "       'Are you currently dating/in a relationship?',\n",
       "       'What is your estimated total annual household income?',\n",
       "       'Do any of your relatives work in the tech industry?',\n",
       "       'Did you take a computer science course prior to college?',\n",
       "       'When did you take CS10B or its equivalent? (Check one box only) [Fall]',\n",
       "       'When did you take CS10B or its equivalent? (Check one box only) [Winter]',\n",
       "       'When did you take CS10B or its equivalent? (Check one box only) [Spring]',\n",
       "       'When did you take CS10B or its equivalent? (Check one box only) [Summer]',\n",
       "       'What grade did you get in CS10A or its equivalent?',\n",
       "       'What grade did you get in CS10B or its equivalent?',\n",
       "       'Have you considered switching majors?',\n",
       "       'Have you ever had an internship?',\n",
       "       'Do you think you’ve experienced imposter syndrome at some point in your college career?',\n",
       "       'In Fall 2021, did you often study and/or work on assignments in groups?',\n",
       "       'In Spring 2021, did you often study and/or work on assignments in groups?',\n",
       "       'What is your learning style?',\n",
       "       'Which of the following activities do you most prefer?',\n",
       "       'Do you prefer animated movies/shows or live action?',\n",
       "       'What genres do you typically like to watch? Rank up to three choices. [1st Choice]',\n",
       "       'What genres do you typically like to watch? Rank up to three choices. [2nd Choice]',\n",
       "       'What genres do you typically like to watch? Rank up to three choices. [3rd Choice]',\n",
       "       'Which streaming service(s) do you tend to use the most? Select up to three streaming services.',\n",
       "       'What is your preferred time to engage in your favorite hobby?',\n",
       "       'Have you found a new hobby during the pandemic? ',\n",
       "       'What type of music do u listen to when studying for CS theoretical classes? (ex: cs11, cs111, cs141, cs150)',\n",
       "       'What type of music do u listen to when studying for CS applicational classes? (ex: cs10a, cs10b, cs10c, cs100)',\n",
       "       'What type of music do u listen to when studying for CS hardware classes? (ex: cs061, cs161, cs120a, cs120b)',\n",
       "       'Did you play video games as a kid?',\n",
       "       'Which of the following services did you subscribe to during the pandemic?',\n",
       "       'What class are you taking this quarter?',\n",
       "       'How often do you attend the CS111 lectures?',\n",
       "       'What is your current grade in CS111?',\n",
       "       'Do you attend any CS111 office hours?',\n",
       "       'Do you attend any CS111 study sessions?', 'How old are you?',\n",
       "       'At what age were you introduced to computer science?',\n",
       "       'At what age did you know you wanted to major in computer science?',\n",
       "       'How many brothers do you have?', 'How many sisters do you have?',\n",
       "       'How many people do you currently live with?',\n",
       "       'How many people did you live with in Fall 2021?',\n",
       "       'How many people did you live with in Spring 2021?',\n",
       "       'On average, how many units do you take per quarter?',\n",
       "       'On average, how many hours do you study per day?',\n",
       "       'On average, how many hours are you on campus per day?',\n",
       "       'On average, how many hours do you sleep per day?',\n",
       "       'On average, how many hours of free time do you have per week?',\n",
       "       'How many extracurriculars are you involved in this quarter?',\n",
       "       'On average, how many hours do you watch movies/shows per week?',\n",
       "       'On average, how many hours do you use social media per day?',\n",
       "       'On average, what percentage of school expenses does your financial aid cover? (Enter 0 if not applicable.)',\n",
       "       'On average, what percentage of school expenses does your scholarship cover? (Enter 0 if not applicable)',\n",
       "       'How many jobs and internships have you applied for during your college career?',\n",
       "       'How many did you get?',\n",
       "       'On average, how many hours do you work at a paid job per week?',\n",
       "       'On average, how many hours do you work at a research lab per week? ',\n",
       "       'How many relationships have you been in?',\n",
       "       'Visual materials (graphs, tables, pictures, etc.) help with my learning.',\n",
       "       'Hands-on activities (worksheets, in-person labs, class assignments) help with my learning.',\n",
       "       'Verbal activities (discussions, reading aloud, etc.) help with my learning.',\n",
       "       'Social interactions are better in-person vs. online.',\n",
       "       'Even though a hybrid option is available, I try to attend in-person classes whenever they are offered.',\n",
       "       'I feel more productive when attending class in-person vs. online.',\n",
       "       'I grasp course material better when attending class in-person vs. online.',\n",
       "       'Overall, I prefer in-person vs. online.',\n",
       "       'On my day off, I would rather wake up early to complete an assignment/responsibility instead of staying up late.',\n",
       "       'I see assignments as learning opportunities rather than work that needs to be finished for a grade.',\n",
       "       'I typically cram for exams.',\n",
       "       'My social media consumption increased during online school vs. person learning.',\n",
       "       'I use social media during class.',\n",
       "       'I feel like playing video games influenced my choice to pursue computer science.',\n",
       "       'My parents/relatives influenced my choice to pursue computer science.',\n",
       "       'I enjoy computer science more after taking theory related classes.',\n",
       "       'I enjoy computer science more after taking hardware related classes.',\n",
       "       'I enjoy computer science more after taking application related classes.',\n",
       "       'I enjoy computer science more after taking engineering electives. ',\n",
       "       'I enjoy computer science more after participating in science related extracurriculars.'],\n",
       "      dtype='object')"
      ]
     },
     "execution_count": 2,
     "metadata": {},
     "output_type": "execute_result"
    }
   ],
   "source": [
    "raw_df.columns"
   ]
  },
  {
   "cell_type": "code",
   "execution_count": 3,
   "id": "7a38c67a-a6bb-482e-9ad5-65eaf19ebab1",
   "metadata": {},
   "outputs": [],
   "source": [
    "questions = ['On average, how many hours do you work at a paid job per week?',\n",
    "             'On average, how many hours do you work at a research lab per week? ',\n",
    "             'On average, what percentage of school expenses does your scholarship cover? (Enter 0 if not applicable)',\n",
    "             'On average, what percentage of school expenses does your financial aid cover? (Enter 0 if not applicable.)',\n",
    "             'How many jobs and internships have you applied for during your college career?',\n",
    "             'What is your current GPA? ']\n",
    "\n",
    "aliases = ['Paid Job Hours',\n",
    "           'Research Lab Hours',\n",
    "           'Scholarship Percentage',\n",
    "           'Finaid Percentage',\n",
    "           'Num Applications',\n",
    "           'GPA']"
   ]
  },
  {
   "cell_type": "code",
   "execution_count": 4,
   "id": "49dfd101-2985-42b6-b39f-b8b9fd976c61",
   "metadata": {},
   "outputs": [
    {
     "data": {
      "text/html": [
       "<div>\n",
       "<style scoped>\n",
       "    .dataframe tbody tr th:only-of-type {\n",
       "        vertical-align: middle;\n",
       "    }\n",
       "\n",
       "    .dataframe tbody tr th {\n",
       "        vertical-align: top;\n",
       "    }\n",
       "\n",
       "    .dataframe thead th {\n",
       "        text-align: right;\n",
       "    }\n",
       "</style>\n",
       "<table border=\"1\" class=\"dataframe\">\n",
       "  <thead>\n",
       "    <tr style=\"text-align: right;\">\n",
       "      <th></th>\n",
       "      <th>Paid Job Hours</th>\n",
       "      <th>Research Lab Hours</th>\n",
       "      <th>Scholarship Percentage</th>\n",
       "      <th>Finaid Percentage</th>\n",
       "      <th>Num Applications</th>\n",
       "      <th>GPA</th>\n",
       "    </tr>\n",
       "  </thead>\n",
       "  <tbody>\n",
       "    <tr>\n",
       "      <th>0</th>\n",
       "      <td>0.0</td>\n",
       "      <td>0.0</td>\n",
       "      <td>0.0</td>\n",
       "      <td>70.0</td>\n",
       "      <td>15.0</td>\n",
       "      <td>3.50 to 4.00</td>\n",
       "    </tr>\n",
       "    <tr>\n",
       "      <th>1</th>\n",
       "      <td>0.0</td>\n",
       "      <td>0.0</td>\n",
       "      <td>0.0</td>\n",
       "      <td>0.0</td>\n",
       "      <td>5.0</td>\n",
       "      <td>3.50 to 4.00</td>\n",
       "    </tr>\n",
       "    <tr>\n",
       "      <th>2</th>\n",
       "      <td>0.0</td>\n",
       "      <td>8.0</td>\n",
       "      <td>0.0</td>\n",
       "      <td>0.0</td>\n",
       "      <td>6.0</td>\n",
       "      <td>3.50 to 4.00</td>\n",
       "    </tr>\n",
       "    <tr>\n",
       "      <th>3</th>\n",
       "      <td>15.0</td>\n",
       "      <td>0.0</td>\n",
       "      <td>70.0</td>\n",
       "      <td>30.0</td>\n",
       "      <td>20.0</td>\n",
       "      <td>3.50 to 4.00</td>\n",
       "    </tr>\n",
       "    <tr>\n",
       "      <th>4</th>\n",
       "      <td>0.0</td>\n",
       "      <td>0.0</td>\n",
       "      <td>0.0</td>\n",
       "      <td>90.0</td>\n",
       "      <td>80.0</td>\n",
       "      <td>3.50 to 4.00</td>\n",
       "    </tr>\n",
       "    <tr>\n",
       "      <th>...</th>\n",
       "      <td>...</td>\n",
       "      <td>...</td>\n",
       "      <td>...</td>\n",
       "      <td>...</td>\n",
       "      <td>...</td>\n",
       "      <td>...</td>\n",
       "    </tr>\n",
       "    <tr>\n",
       "      <th>74</th>\n",
       "      <td>0.0</td>\n",
       "      <td>2.0</td>\n",
       "      <td>0.0</td>\n",
       "      <td>0.0</td>\n",
       "      <td>10.0</td>\n",
       "      <td>3.50 to 4.00</td>\n",
       "    </tr>\n",
       "    <tr>\n",
       "      <th>75</th>\n",
       "      <td>20.0</td>\n",
       "      <td>0.0</td>\n",
       "      <td>0.0</td>\n",
       "      <td>60.0</td>\n",
       "      <td>3.0</td>\n",
       "      <td>3.00 to 3.49</td>\n",
       "    </tr>\n",
       "    <tr>\n",
       "      <th>76</th>\n",
       "      <td>30.0</td>\n",
       "      <td>0.0</td>\n",
       "      <td>0.0</td>\n",
       "      <td>60.0</td>\n",
       "      <td>8.0</td>\n",
       "      <td>3.00 to 3.49</td>\n",
       "    </tr>\n",
       "    <tr>\n",
       "      <th>77</th>\n",
       "      <td>0.0</td>\n",
       "      <td>0.0</td>\n",
       "      <td>100.0</td>\n",
       "      <td>100.0</td>\n",
       "      <td>20.0</td>\n",
       "      <td>3.50 to 4.00</td>\n",
       "    </tr>\n",
       "    <tr>\n",
       "      <th>78</th>\n",
       "      <td>5.0</td>\n",
       "      <td>0.0</td>\n",
       "      <td>20.0</td>\n",
       "      <td>0.0</td>\n",
       "      <td>4.0</td>\n",
       "      <td>3.50 to 4.00</td>\n",
       "    </tr>\n",
       "  </tbody>\n",
       "</table>\n",
       "<p>79 rows × 6 columns</p>\n",
       "</div>"
      ],
      "text/plain": [
       "    Paid Job Hours  Research Lab Hours  Scholarship Percentage  \\\n",
       "0              0.0                 0.0                     0.0   \n",
       "1              0.0                 0.0                     0.0   \n",
       "2              0.0                 8.0                     0.0   \n",
       "3             15.0                 0.0                    70.0   \n",
       "4              0.0                 0.0                     0.0   \n",
       "..             ...                 ...                     ...   \n",
       "74             0.0                 2.0                     0.0   \n",
       "75            20.0                 0.0                     0.0   \n",
       "76            30.0                 0.0                     0.0   \n",
       "77             0.0                 0.0                   100.0   \n",
       "78             5.0                 0.0                    20.0   \n",
       "\n",
       "    Finaid Percentage  Num Applications           GPA  \n",
       "0                70.0              15.0  3.50 to 4.00  \n",
       "1                 0.0               5.0  3.50 to 4.00  \n",
       "2                 0.0               6.0  3.50 to 4.00  \n",
       "3                30.0              20.0  3.50 to 4.00  \n",
       "4                90.0              80.0  3.50 to 4.00  \n",
       "..                ...               ...           ...  \n",
       "74                0.0              10.0  3.50 to 4.00  \n",
       "75               60.0               3.0  3.00 to 3.49  \n",
       "76               60.0               8.0  3.00 to 3.49  \n",
       "77              100.0              20.0  3.50 to 4.00  \n",
       "78                0.0               4.0  3.50 to 4.00  \n",
       "\n",
       "[79 rows x 6 columns]"
      ]
     },
     "execution_count": 4,
     "metadata": {},
     "output_type": "execute_result"
    }
   ],
   "source": [
    "df = raw_df[questions]\n",
    "\n",
    "#rename columns to aliases\n",
    "for i in range(len(questions)):\n",
    "  df = df.rename(columns={questions[i]: aliases[i]})\n",
    "\n",
    "df\n"
   ]
  },
  {
   "cell_type": "code",
   "execution_count": 6,
   "id": "79a4fcd8-20e7-4118-b8e1-995cf9bfdab9",
   "metadata": {},
   "outputs": [],
   "source": [
    "# 'Paid Job Hours',\n",
    "# 'Research Lab Hours',\n",
    "# 'Scholarship Percentage',\n",
    "# 'Finaid Percentage',\n",
    "import pandas as pd\n",
    "import matplotlib.pyplot as plt\n",
    "import numpy as np\n",
    "import seaborn as sns\n",
    "import scipy"
   ]
  },
  {
   "cell_type": "code",
   "execution_count": 59,
   "id": "e2234fa0-96a4-4133-aca4-9e6a73f509b3",
   "metadata": {},
   "outputs": [
    {
     "data": {
      "image/png": "[encoded data removed]",
      "text/plain": [
       "<Figure size 432x288 with 1 Axes>"
      ]
     },
     "metadata": {
      "needs_background": "light"
     },
     "output_type": "display_data"
    },
    {
     "data": {
      "image/png": "[encoded data removed]",
      "text/plain": [
       "<Figure size 432x288 with 1 Axes>"
      ]
     },
     "metadata": {
      "needs_background": "light"
     },
     "output_type": "display_data"
    },
    {
     "data": {
      "image/png": "[encoded data removed]",
      "text/plain": [
       "<Figure size 432x288 with 1 Axes>"
      ]
     },
     "metadata": {
      "needs_background": "light"
     },
     "output_type": "display_data"
    },
    {
     "data": {
      "image/png": "[encoded data removed]",
      "text/plain": [
       "<Figure size 432x288 with 1 Axes>"
      ]
     },
     "metadata": {
      "needs_background": "light"
     },
     "output_type": "display_data"
    }
   ],
   "source": [
    "hist1 = df[['Paid Job Hours']].hist(bins = 15)\n",
    "hist2 = df[['Research Lab Hours']].hist(bins = 10)\n",
    "hist3 = df[['Scholarship Percentage']].hist(bins = 10)\n",
    "hist4 = df[['Finaid Percentage']].hist(bins = 10)"
   ]
  },
  {
   "cell_type": "code",
   "execution_count": null,
   "id": "5ad86e33-9b55-456a-a63d-8a556aab83b9",
   "metadata": {},
   "outputs": [],
   "source": [
    "We are using a histogram here to see how the much the percentage is for Financial aid and scholarships,\n",
    "and just raw hours for paid and lab hours worked. When we look at the data, we can see that most of the \n",
    "responders do not do paid work or do not do lab research, though we can see that there are more people \n",
    "that work than do research, likely indicative by how the classes that responded to the survey are \n",
    "mostly filled with CS majors or a near equivalent, who generally do not focus on lab research as an \n",
    "undergrad. It is intersting to note that when comparing scholarship and financial percentage aid, \n",
    "where there is still a majority amount of people that do not have scholarship and financial aid, but \n",
    "there is a good amount of people that have 100% of their aid covered. "
   ]
  }
 ],
 "metadata": {
  "kernelspec": {
   "display_name": "Python 3 (ipykernel)",
   "language": "python",
   "name": "python3"
  },
  "language_info": {
   "codemirror_mode": {
    "name": "ipython",
    "version": 3
   },
   "file_extension": ".py",
   "mimetype": "text/x-python",
   "name": "python",
   "nbconvert_exporter": "python",
   "pygments_lexer": "ipython3",
   "version": "3.9.7"
  }
 },
 "nbformat": 4,
 "nbformat_minor": 5
}
